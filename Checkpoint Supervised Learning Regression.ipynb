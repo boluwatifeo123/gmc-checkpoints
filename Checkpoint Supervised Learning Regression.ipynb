{
 "cells": [
  {
   "cell_type": "code",
   "execution_count": 2,
   "id": "f6961181-68ad-42a1-85ac-90d009bb6a00",
   "metadata": {},
   "outputs": [],
   "source": [
    "import pandas as pd"
   ]
  },
  {
   "cell_type": "code",
   "execution_count": 4,
   "id": "6b2aa482-191e-46b8-bfa6-ce297490a249",
   "metadata": {},
   "outputs": [],
   "source": [
    "df = pd.read_csv(r\"C:\\Users\\boluw\\PYTHON\\GOMYCODE\\MACHINE LEARNING\\Checkpoint\\5G_energy_consumption_dataset.csv\")"
   ]
  },
  {
   "cell_type": "code",
   "execution_count": null,
   "id": "94b53601-26a0-4e1d-b7ad-d68f8a1de92f",
   "metadata": {},
   "outputs": [],
   "source": [
    "df.head()"
   ]
  },
  {
   "cell_type": "code",
   "execution_count": null,
   "id": "07d51565-ae14-46b3-8462-a2d270543447",
   "metadata": {},
   "outputs": [],
   "source": [
    "df.info()"
   ]
  },
  {
   "cell_type": "code",
   "execution_count": 14,
   "id": "a18464b1-ab92-4406-8ab3-b2349306ab2e",
   "metadata": {},
   "outputs": [
    {
     "data": {
      "text/html": [
       "<div>\n",
       "<style scoped>\n",
       "    .dataframe tbody tr th:only-of-type {\n",
       "        vertical-align: middle;\n",
       "    }\n",
       "\n",
       "    .dataframe tbody tr th {\n",
       "        vertical-align: top;\n",
       "    }\n",
       "\n",
       "    .dataframe thead th {\n",
       "        text-align: right;\n",
       "    }\n",
       "</style>\n",
       "<table border=\"1\" class=\"dataframe\">\n",
       "  <thead>\n",
       "    <tr style=\"text-align: right;\">\n",
       "      <th></th>\n",
       "      <th>Energy</th>\n",
       "      <th>load</th>\n",
       "      <th>ESMODE</th>\n",
       "      <th>TXpower</th>\n",
       "    </tr>\n",
       "  </thead>\n",
       "  <tbody>\n",
       "    <tr>\n",
       "      <th>count</th>\n",
       "      <td>92629.000000</td>\n",
       "      <td>92629.000000</td>\n",
       "      <td>92629.000000</td>\n",
       "      <td>92629.000000</td>\n",
       "    </tr>\n",
       "    <tr>\n",
       "      <th>mean</th>\n",
       "      <td>28.138997</td>\n",
       "      <td>0.244705</td>\n",
       "      <td>0.081361</td>\n",
       "      <td>6.765427</td>\n",
       "    </tr>\n",
       "    <tr>\n",
       "      <th>std</th>\n",
       "      <td>13.934645</td>\n",
       "      <td>0.234677</td>\n",
       "      <td>0.382317</td>\n",
       "      <td>0.309929</td>\n",
       "    </tr>\n",
       "    <tr>\n",
       "      <th>min</th>\n",
       "      <td>0.747384</td>\n",
       "      <td>0.000000</td>\n",
       "      <td>0.000000</td>\n",
       "      <td>5.381166</td>\n",
       "    </tr>\n",
       "    <tr>\n",
       "      <th>25%</th>\n",
       "      <td>18.236173</td>\n",
       "      <td>0.057370</td>\n",
       "      <td>0.000000</td>\n",
       "      <td>6.427504</td>\n",
       "    </tr>\n",
       "    <tr>\n",
       "      <th>50%</th>\n",
       "      <td>24.065770</td>\n",
       "      <td>0.165550</td>\n",
       "      <td>0.000000</td>\n",
       "      <td>6.875934</td>\n",
       "    </tr>\n",
       "    <tr>\n",
       "      <th>75%</th>\n",
       "      <td>35.724963</td>\n",
       "      <td>0.363766</td>\n",
       "      <td>0.000000</td>\n",
       "      <td>6.875934</td>\n",
       "    </tr>\n",
       "    <tr>\n",
       "      <th>max</th>\n",
       "      <td>100.000000</td>\n",
       "      <td>0.993957</td>\n",
       "      <td>4.000000</td>\n",
       "      <td>8.375336</td>\n",
       "    </tr>\n",
       "  </tbody>\n",
       "</table>\n",
       "</div>"
      ],
      "text/plain": [
       "             Energy          load        ESMODE       TXpower\n",
       "count  92629.000000  92629.000000  92629.000000  92629.000000\n",
       "mean      28.138997      0.244705      0.081361      6.765427\n",
       "std       13.934645      0.234677      0.382317      0.309929\n",
       "min        0.747384      0.000000      0.000000      5.381166\n",
       "25%       18.236173      0.057370      0.000000      6.427504\n",
       "50%       24.065770      0.165550      0.000000      6.875934\n",
       "75%       35.724963      0.363766      0.000000      6.875934\n",
       "max      100.000000      0.993957      4.000000      8.375336"
      ]
     },
     "execution_count": 14,
     "metadata": {},
     "output_type": "execute_result"
    }
   ],
   "source": [
    "df.describe()"
   ]
  },
  {
   "cell_type": "code",
   "execution_count": 43,
   "id": "bb856a24-79c6-4278-937d-680f4e3b9cbc",
   "metadata": {},
   "outputs": [],
   "source": [
    "df['Time'] = pd.to_datetime(df['Time'], format='%Y%m%d %H%M%S')"
   ]
  },
  {
   "cell_type": "code",
   "execution_count": 45,
   "id": "5de405bd-af42-4e13-9503-b7fb58696fdb",
   "metadata": {},
   "outputs": [
    {
     "data": {
      "text/html": [
       "<div>\n",
       "<style scoped>\n",
       "    .dataframe tbody tr th:only-of-type {\n",
       "        vertical-align: middle;\n",
       "    }\n",
       "\n",
       "    .dataframe tbody tr th {\n",
       "        vertical-align: top;\n",
       "    }\n",
       "\n",
       "    .dataframe thead th {\n",
       "        text-align: right;\n",
       "    }\n",
       "</style>\n",
       "<table border=\"1\" class=\"dataframe\">\n",
       "  <thead>\n",
       "    <tr style=\"text-align: right;\">\n",
       "      <th></th>\n",
       "      <th>Time</th>\n",
       "      <th>BS</th>\n",
       "      <th>Energy</th>\n",
       "      <th>load</th>\n",
       "      <th>ESMODE</th>\n",
       "      <th>TXpower</th>\n",
       "      <th>BS_encoded</th>\n",
       "    </tr>\n",
       "  </thead>\n",
       "  <tbody>\n",
       "    <tr>\n",
       "      <th>0</th>\n",
       "      <td>2023-01-01 01:00:00</td>\n",
       "      <td>B_0</td>\n",
       "      <td>64.275037</td>\n",
       "      <td>0.487936</td>\n",
       "      <td>0.0</td>\n",
       "      <td>7.101719</td>\n",
       "      <td>73.087415</td>\n",
       "    </tr>\n",
       "    <tr>\n",
       "      <th>1</th>\n",
       "      <td>2023-01-01 02:00:00</td>\n",
       "      <td>B_0</td>\n",
       "      <td>55.904335</td>\n",
       "      <td>0.344468</td>\n",
       "      <td>0.0</td>\n",
       "      <td>7.101719</td>\n",
       "      <td>73.087415</td>\n",
       "    </tr>\n",
       "    <tr>\n",
       "      <th>2</th>\n",
       "      <td>2023-01-01 03:00:00</td>\n",
       "      <td>B_0</td>\n",
       "      <td>57.698057</td>\n",
       "      <td>0.193766</td>\n",
       "      <td>0.0</td>\n",
       "      <td>7.101719</td>\n",
       "      <td>73.087415</td>\n",
       "    </tr>\n",
       "    <tr>\n",
       "      <th>3</th>\n",
       "      <td>2023-01-01 04:00:00</td>\n",
       "      <td>B_0</td>\n",
       "      <td>55.156951</td>\n",
       "      <td>0.222383</td>\n",
       "      <td>0.0</td>\n",
       "      <td>7.101719</td>\n",
       "      <td>73.087415</td>\n",
       "    </tr>\n",
       "    <tr>\n",
       "      <th>4</th>\n",
       "      <td>2023-01-01 05:00:00</td>\n",
       "      <td>B_0</td>\n",
       "      <td>56.053812</td>\n",
       "      <td>0.175436</td>\n",
       "      <td>0.0</td>\n",
       "      <td>7.101719</td>\n",
       "      <td>73.087415</td>\n",
       "    </tr>\n",
       "  </tbody>\n",
       "</table>\n",
       "</div>"
      ],
      "text/plain": [
       "                 Time   BS     Energy      load  ESMODE   TXpower  BS_encoded\n",
       "0 2023-01-01 01:00:00  B_0  64.275037  0.487936     0.0  7.101719   73.087415\n",
       "1 2023-01-01 02:00:00  B_0  55.904335  0.344468     0.0  7.101719   73.087415\n",
       "2 2023-01-01 03:00:00  B_0  57.698057  0.193766     0.0  7.101719   73.087415\n",
       "3 2023-01-01 04:00:00  B_0  55.156951  0.222383     0.0  7.101719   73.087415\n",
       "4 2023-01-01 05:00:00  B_0  56.053812  0.175436     0.0  7.101719   73.087415"
      ]
     },
     "execution_count": 45,
     "metadata": {},
     "output_type": "execute_result"
    }
   ],
   "source": [
    "df.head()"
   ]
  },
  {
   "cell_type": "code",
   "execution_count": 47,
   "id": "a4f4fcb3-f37f-4fbe-b401-bd3bc4e13b7e",
   "metadata": {},
   "outputs": [
    {
     "data": {
      "text/plain": [
       "0"
      ]
     },
     "execution_count": 47,
     "metadata": {},
     "output_type": "execute_result"
    }
   ],
   "source": [
    "df.duplicated().sum()"
   ]
  },
  {
   "cell_type": "code",
   "execution_count": 49,
   "id": "9410991d-e1fe-4b00-a1a8-ab425229c6a8",
   "metadata": {},
   "outputs": [
    {
     "data": {
      "text/plain": [
       "Time          0\n",
       "BS            0\n",
       "Energy        0\n",
       "load          0\n",
       "ESMODE        0\n",
       "TXpower       0\n",
       "BS_encoded    0\n",
       "dtype: int64"
      ]
     },
     "execution_count": 49,
     "metadata": {},
     "output_type": "execute_result"
    }
   ],
   "source": [
    "df.isnull().sum()"
   ]
  },
  {
   "cell_type": "code",
   "execution_count": 59,
   "id": "750e76b0-f37f-4cc5-9485-0eccf8a9928f",
   "metadata": {},
   "outputs": [],
   "source": [
    "# extract year, month, day, hour, and seconds from the 'Time' column\n",
    "df['Year'] = df['Time'].dt.year\n",
    "df['Month'] = df['Time'].dt.month\n",
    "df['Day'] = df['Time'].dt.day\n",
    "df['Hour'] = df['Time'].dt.hour\n",
    "df['Seconds'] = df['Time'].dt.second"
   ]
  },
  {
   "cell_type": "code",
   "execution_count": 61,
   "id": "d4c6418d-79bf-466d-91af-9ac6ca5ce1b0",
   "metadata": {},
   "outputs": [
    {
     "name": "stdout",
     "output_type": "stream",
     "text": [
      "Requirement already satisfied: category_encoders in c:\\users\\boluw\\anaconda3\\lib\\site-packages (2.8.1)\n",
      "Requirement already satisfied: numpy>=1.14.0 in c:\\users\\boluw\\anaconda3\\lib\\site-packages (from category_encoders) (1.26.4)\n",
      "Requirement already satisfied: pandas>=1.0.5 in c:\\users\\boluw\\anaconda3\\lib\\site-packages (from category_encoders) (2.2.2)\n",
      "Requirement already satisfied: patsy>=0.5.1 in c:\\users\\boluw\\anaconda3\\lib\\site-packages (from category_encoders) (0.5.6)\n",
      "Requirement already satisfied: scikit-learn>=1.6.0 in c:\\users\\boluw\\anaconda3\\lib\\site-packages (from category_encoders) (1.6.1)\n",
      "Requirement already satisfied: scipy>=1.0.0 in c:\\users\\boluw\\anaconda3\\lib\\site-packages (from category_encoders) (1.13.1)\n",
      "Requirement already satisfied: statsmodels>=0.9.0 in c:\\users\\boluw\\anaconda3\\lib\\site-packages (from category_encoders) (0.14.2)\n",
      "Requirement already satisfied: python-dateutil>=2.8.2 in c:\\users\\boluw\\anaconda3\\lib\\site-packages (from pandas>=1.0.5->category_encoders) (2.9.0.post0)\n",
      "Requirement already satisfied: pytz>=2020.1 in c:\\users\\boluw\\anaconda3\\lib\\site-packages (from pandas>=1.0.5->category_encoders) (2024.1)\n",
      "Requirement already satisfied: tzdata>=2022.7 in c:\\users\\boluw\\anaconda3\\lib\\site-packages (from pandas>=1.0.5->category_encoders) (2023.3)\n",
      "Requirement already satisfied: six in c:\\users\\boluw\\anaconda3\\lib\\site-packages (from patsy>=0.5.1->category_encoders) (1.16.0)\n",
      "Requirement already satisfied: joblib>=1.2.0 in c:\\users\\boluw\\anaconda3\\lib\\site-packages (from scikit-learn>=1.6.0->category_encoders) (1.4.2)\n",
      "Requirement already satisfied: threadpoolctl>=3.1.0 in c:\\users\\boluw\\anaconda3\\lib\\site-packages (from scikit-learn>=1.6.0->category_encoders) (3.5.0)\n",
      "Requirement already satisfied: packaging>=21.3 in c:\\users\\boluw\\anaconda3\\lib\\site-packages (from statsmodels>=0.9.0->category_encoders) (24.1)\n",
      "Note: you may need to restart the kernel to use updated packages.\n"
     ]
    }
   ],
   "source": [
    "pip install category_encoders\n"
   ]
  },
  {
   "cell_type": "code",
   "execution_count": 62,
   "id": "f98e7485-bf71-4fb1-b89e-102d59f6b676",
   "metadata": {},
   "outputs": [],
   "source": [
    "from category_encoders.target_encoder import TargetEncoder\n",
    "\n",
    "# Create a target encoder\n",
    "te = TargetEncoder()\n",
    "\n",
    "# Fit the target encoder to the data\n",
    "te.fit(df['BS'], df['Energy'])\n",
    "\n",
    "# Transform the BS column using target encoding\n",
    "df['BS_encoded'] = te.transform(df['BS'])"
   ]
  },
  {
   "cell_type": "code",
   "execution_count": null,
   "id": "214168c1-a6ae-4ab7-8ca8-5dd7bd73241a",
   "metadata": {},
   "outputs": [],
   "source": [
    "print(df['BS_encoded'].unique())"
   ]
  },
  {
   "cell_type": "code",
   "execution_count": 67,
   "id": "41c5b641-5421-4a45-948e-d45a6f44f78a",
   "metadata": {},
   "outputs": [
    {
     "data": {
      "text/html": [
       "<div>\n",
       "<style scoped>\n",
       "    .dataframe tbody tr th:only-of-type {\n",
       "        vertical-align: middle;\n",
       "    }\n",
       "\n",
       "    .dataframe tbody tr th {\n",
       "        vertical-align: top;\n",
       "    }\n",
       "\n",
       "    .dataframe thead th {\n",
       "        text-align: right;\n",
       "    }\n",
       "</style>\n",
       "<table border=\"1\" class=\"dataframe\">\n",
       "  <thead>\n",
       "    <tr style=\"text-align: right;\">\n",
       "      <th></th>\n",
       "      <th>Time</th>\n",
       "      <th>BS</th>\n",
       "      <th>Energy</th>\n",
       "      <th>load</th>\n",
       "      <th>ESMODE</th>\n",
       "      <th>TXpower</th>\n",
       "      <th>BS_encoded</th>\n",
       "      <th>Year</th>\n",
       "      <th>Month</th>\n",
       "      <th>Day</th>\n",
       "      <th>Hour</th>\n",
       "      <th>Seconds</th>\n",
       "    </tr>\n",
       "  </thead>\n",
       "  <tbody>\n",
       "    <tr>\n",
       "      <th>0</th>\n",
       "      <td>2023-01-01 01:00:00</td>\n",
       "      <td>B_0</td>\n",
       "      <td>64.275037</td>\n",
       "      <td>0.487936</td>\n",
       "      <td>0.0</td>\n",
       "      <td>7.101719</td>\n",
       "      <td>73.087415</td>\n",
       "      <td>2023</td>\n",
       "      <td>1</td>\n",
       "      <td>1</td>\n",
       "      <td>1</td>\n",
       "      <td>0</td>\n",
       "    </tr>\n",
       "    <tr>\n",
       "      <th>1</th>\n",
       "      <td>2023-01-01 02:00:00</td>\n",
       "      <td>B_0</td>\n",
       "      <td>55.904335</td>\n",
       "      <td>0.344468</td>\n",
       "      <td>0.0</td>\n",
       "      <td>7.101719</td>\n",
       "      <td>73.087415</td>\n",
       "      <td>2023</td>\n",
       "      <td>1</td>\n",
       "      <td>1</td>\n",
       "      <td>2</td>\n",
       "      <td>0</td>\n",
       "    </tr>\n",
       "    <tr>\n",
       "      <th>2</th>\n",
       "      <td>2023-01-01 03:00:00</td>\n",
       "      <td>B_0</td>\n",
       "      <td>57.698057</td>\n",
       "      <td>0.193766</td>\n",
       "      <td>0.0</td>\n",
       "      <td>7.101719</td>\n",
       "      <td>73.087415</td>\n",
       "      <td>2023</td>\n",
       "      <td>1</td>\n",
       "      <td>1</td>\n",
       "      <td>3</td>\n",
       "      <td>0</td>\n",
       "    </tr>\n",
       "    <tr>\n",
       "      <th>3</th>\n",
       "      <td>2023-01-01 04:00:00</td>\n",
       "      <td>B_0</td>\n",
       "      <td>55.156951</td>\n",
       "      <td>0.222383</td>\n",
       "      <td>0.0</td>\n",
       "      <td>7.101719</td>\n",
       "      <td>73.087415</td>\n",
       "      <td>2023</td>\n",
       "      <td>1</td>\n",
       "      <td>1</td>\n",
       "      <td>4</td>\n",
       "      <td>0</td>\n",
       "    </tr>\n",
       "    <tr>\n",
       "      <th>4</th>\n",
       "      <td>2023-01-01 05:00:00</td>\n",
       "      <td>B_0</td>\n",
       "      <td>56.053812</td>\n",
       "      <td>0.175436</td>\n",
       "      <td>0.0</td>\n",
       "      <td>7.101719</td>\n",
       "      <td>73.087415</td>\n",
       "      <td>2023</td>\n",
       "      <td>1</td>\n",
       "      <td>1</td>\n",
       "      <td>5</td>\n",
       "      <td>0</td>\n",
       "    </tr>\n",
       "  </tbody>\n",
       "</table>\n",
       "</div>"
      ],
      "text/plain": [
       "                 Time   BS     Energy      load  ESMODE   TXpower  BS_encoded  \\\n",
       "0 2023-01-01 01:00:00  B_0  64.275037  0.487936     0.0  7.101719   73.087415   \n",
       "1 2023-01-01 02:00:00  B_0  55.904335  0.344468     0.0  7.101719   73.087415   \n",
       "2 2023-01-01 03:00:00  B_0  57.698057  0.193766     0.0  7.101719   73.087415   \n",
       "3 2023-01-01 04:00:00  B_0  55.156951  0.222383     0.0  7.101719   73.087415   \n",
       "4 2023-01-01 05:00:00  B_0  56.053812  0.175436     0.0  7.101719   73.087415   \n",
       "\n",
       "   Year  Month  Day  Hour  Seconds  \n",
       "0  2023      1    1     1        0  \n",
       "1  2023      1    1     2        0  \n",
       "2  2023      1    1     3        0  \n",
       "3  2023      1    1     4        0  \n",
       "4  2023      1    1     5        0  "
      ]
     },
     "execution_count": 67,
     "metadata": {},
     "output_type": "execute_result"
    }
   ],
   "source": [
    "df.head()"
   ]
  },
  {
   "cell_type": "code",
   "execution_count": 69,
   "id": "3ff23742-6ee2-4aa0-823a-4ffeb988d299",
   "metadata": {},
   "outputs": [
    {
     "data": {
      "text/html": [
       "<div>\n",
       "<style scoped>\n",
       "    .dataframe tbody tr th:only-of-type {\n",
       "        vertical-align: middle;\n",
       "    }\n",
       "\n",
       "    .dataframe tbody tr th {\n",
       "        vertical-align: top;\n",
       "    }\n",
       "\n",
       "    .dataframe thead th {\n",
       "        text-align: right;\n",
       "    }\n",
       "</style>\n",
       "<table border=\"1\" class=\"dataframe\">\n",
       "  <thead>\n",
       "    <tr style=\"text-align: right;\">\n",
       "      <th></th>\n",
       "      <th>Time</th>\n",
       "      <th>Energy</th>\n",
       "      <th>load</th>\n",
       "      <th>ESMODE</th>\n",
       "      <th>TXpower</th>\n",
       "      <th>Day</th>\n",
       "      <th>Hour</th>\n",
       "      <th>BS_encoded</th>\n",
       "    </tr>\n",
       "  </thead>\n",
       "  <tbody>\n",
       "    <tr>\n",
       "      <th>Time</th>\n",
       "      <td>1.000000</td>\n",
       "      <td>0.030404</td>\n",
       "      <td>0.066937</td>\n",
       "      <td>-0.032436</td>\n",
       "      <td>-0.038777</td>\n",
       "      <td>0.987834</td>\n",
       "      <td>0.132592</td>\n",
       "      <td>0.007711</td>\n",
       "    </tr>\n",
       "    <tr>\n",
       "      <th>Energy</th>\n",
       "      <td>0.030404</td>\n",
       "      <td>1.000000</td>\n",
       "      <td>0.643022</td>\n",
       "      <td>-0.271783</td>\n",
       "      <td>0.450760</td>\n",
       "      <td>-0.001294</td>\n",
       "      <td>0.203709</td>\n",
       "      <td>0.922452</td>\n",
       "    </tr>\n",
       "    <tr>\n",
       "      <th>load</th>\n",
       "      <td>0.066937</td>\n",
       "      <td>0.643022</td>\n",
       "      <td>1.000000</td>\n",
       "      <td>-0.208473</td>\n",
       "      <td>0.200221</td>\n",
       "      <td>0.016688</td>\n",
       "      <td>0.323958</td>\n",
       "      <td>0.487335</td>\n",
       "    </tr>\n",
       "    <tr>\n",
       "      <th>ESMODE</th>\n",
       "      <td>-0.032436</td>\n",
       "      <td>-0.271783</td>\n",
       "      <td>-0.208473</td>\n",
       "      <td>1.000000</td>\n",
       "      <td>0.060017</td>\n",
       "      <td>0.004096</td>\n",
       "      <td>-0.234626</td>\n",
       "      <td>-0.142792</td>\n",
       "    </tr>\n",
       "    <tr>\n",
       "      <th>TXpower</th>\n",
       "      <td>-0.038777</td>\n",
       "      <td>0.450760</td>\n",
       "      <td>0.200221</td>\n",
       "      <td>0.060017</td>\n",
       "      <td>1.000000</td>\n",
       "      <td>-0.039210</td>\n",
       "      <td>0.000630</td>\n",
       "      <td>0.491489</td>\n",
       "    </tr>\n",
       "    <tr>\n",
       "      <th>Day</th>\n",
       "      <td>0.987834</td>\n",
       "      <td>-0.001294</td>\n",
       "      <td>0.016688</td>\n",
       "      <td>0.004096</td>\n",
       "      <td>-0.039210</td>\n",
       "      <td>1.000000</td>\n",
       "      <td>-0.023159</td>\n",
       "      <td>0.007395</td>\n",
       "    </tr>\n",
       "    <tr>\n",
       "      <th>Hour</th>\n",
       "      <td>0.132592</td>\n",
       "      <td>0.203709</td>\n",
       "      <td>0.323958</td>\n",
       "      <td>-0.234626</td>\n",
       "      <td>0.000630</td>\n",
       "      <td>-0.023159</td>\n",
       "      <td>1.000000</td>\n",
       "      <td>0.002438</td>\n",
       "    </tr>\n",
       "    <tr>\n",
       "      <th>BS_encoded</th>\n",
       "      <td>0.007711</td>\n",
       "      <td>0.922452</td>\n",
       "      <td>0.487335</td>\n",
       "      <td>-0.142792</td>\n",
       "      <td>0.491489</td>\n",
       "      <td>0.007395</td>\n",
       "      <td>0.002438</td>\n",
       "      <td>1.000000</td>\n",
       "    </tr>\n",
       "  </tbody>\n",
       "</table>\n",
       "</div>"
      ],
      "text/plain": [
       "                Time    Energy      load    ESMODE   TXpower       Day  \\\n",
       "Time        1.000000  0.030404  0.066937 -0.032436 -0.038777  0.987834   \n",
       "Energy      0.030404  1.000000  0.643022 -0.271783  0.450760 -0.001294   \n",
       "load        0.066937  0.643022  1.000000 -0.208473  0.200221  0.016688   \n",
       "ESMODE     -0.032436 -0.271783 -0.208473  1.000000  0.060017  0.004096   \n",
       "TXpower    -0.038777  0.450760  0.200221  0.060017  1.000000 -0.039210   \n",
       "Day         0.987834 -0.001294  0.016688  0.004096 -0.039210  1.000000   \n",
       "Hour        0.132592  0.203709  0.323958 -0.234626  0.000630 -0.023159   \n",
       "BS_encoded  0.007711  0.922452  0.487335 -0.142792  0.491489  0.007395   \n",
       "\n",
       "                Hour  BS_encoded  \n",
       "Time        0.132592    0.007711  \n",
       "Energy      0.203709    0.922452  \n",
       "load        0.323958    0.487335  \n",
       "ESMODE     -0.234626   -0.142792  \n",
       "TXpower     0.000630    0.491489  \n",
       "Day        -0.023159    0.007395  \n",
       "Hour        1.000000    0.002438  \n",
       "BS_encoded  0.002438    1.000000  "
      ]
     },
     "execution_count": 69,
     "metadata": {},
     "output_type": "execute_result"
    }
   ],
   "source": [
    "selected_features=['Time','Energy','load','ESMODE','TXpower','Day','Hour','BS_encoded']\n",
    "correlation_matrix = df[selected_features].corr()\n",
    "correlation_matrix \n"
   ]
  },
  {
   "cell_type": "code",
   "execution_count": 71,
   "id": "903d3bbc-3c1a-4695-b0bb-578082cb1d20",
   "metadata": {},
   "outputs": [],
   "source": [
    "from sklearn.model_selection import train_test_split "
   ]
  },
  {
   "cell_type": "code",
   "execution_count": 73,
   "id": "973dcc5b-d88b-4849-b2b0-af42dce00838",
   "metadata": {},
   "outputs": [
    {
     "name": "stdout",
     "output_type": "stream",
     "text": [
      "Index(['load', 'ESMODE', 'TXpower', 'BS_encoded', 'Hour'], dtype='object')\n"
     ]
    }
   ],
   "source": [
    "X = df.drop(columns=['Energy','Day','BS','Year','Month','Day','Seconds','Time'])\n",
    "y= df['Energy']\n",
    "X_train, X_test, y_train, y_test = train_test_split(X, y, test_size=0.2, random_state=42)\n",
    "print(X_train.columns)"
   ]
  },
  {
   "cell_type": "code",
   "execution_count": 81,
   "id": "3a3fdd59-d331-4aba-88d1-e3bc51e8bce6",
   "metadata": {},
   "outputs": [],
   "source": [
    "from sklearn.linear_model import LinearRegression  # To create and train a linear regression model\n",
    "from sklearn.metrics import mean_squared_error  # To evaluate the model using Mean Squared Error (MSE)\n",
    "from sklearn.metrics import r2_score  # To evaluate the model using R-squared (R²)"
   ]
  },
  {
   "cell_type": "code",
   "execution_count": 85,
   "id": "1a203030-8934-402e-a45b-663fb2af1510",
   "metadata": {},
   "outputs": [
    {
     "name": "stdout",
     "output_type": "stream",
     "text": [
      "Requirement already satisfied: scikit-learn in c:\\users\\boluw\\anaconda3\\lib\\site-packages (1.6.1)\n",
      "Requirement already satisfied: numpy>=1.19.5 in c:\\users\\boluw\\anaconda3\\lib\\site-packages (from scikit-learn) (1.26.4)\n",
      "Requirement already satisfied: scipy>=1.6.0 in c:\\users\\boluw\\anaconda3\\lib\\site-packages (from scikit-learn) (1.13.1)\n",
      "Requirement already satisfied: joblib>=1.2.0 in c:\\users\\boluw\\anaconda3\\lib\\site-packages (from scikit-learn) (1.4.2)\n",
      "Requirement already satisfied: threadpoolctl>=3.1.0 in c:\\users\\boluw\\anaconda3\\lib\\site-packages (from scikit-learn) (3.5.0)\n",
      "Note: you may need to restart the kernel to use updated packages.\n"
     ]
    }
   ],
   "source": [
    "pip install --upgrade scikit-learn"
   ]
  },
  {
   "cell_type": "code",
   "execution_count": 79,
   "id": "e97666ac-d2f3-4516-8ca7-ddae1666a77a",
   "metadata": {},
   "outputs": [
    {
     "name": "stdout",
     "output_type": "stream",
     "text": [
      "Linear Regression RMSE: 14.976882793435552\n",
      "Linear Regression R2 Score: 0.9210938363967964\n"
     ]
    }
   ],
   "source": [
    "# Initialize the model\n",
    "lin_reg = LinearRegression()\n",
    "\n",
    "# Fit the model\n",
    "lin_reg.fit(X_train, y_train)\n",
    "\n",
    "# Predicting on test data\n",
    "y_pred = lin_reg.predict(X_test)\n",
    "\n",
    "# Model evaluation\n",
    "print(\"Linear Regression RMSE:\", mean_squared_error(y_test, y_pred))\n",
    "print(\"Linear Regression R2 Score:\", r2_score(y_test, y_pred))"
   ]
  },
  {
   "cell_type": "code",
   "execution_count": 91,
   "id": "5aa5633f-eaec-402d-a8d1-5b7fc7bc765b",
   "metadata": {},
   "outputs": [
    {
     "ename": "TypeError",
     "evalue": "got an unexpected keyword argument 'squared'",
     "output_type": "error",
     "traceback": [
      "\u001b[1;31m---------------------------------------------------------------------------\u001b[0m",
      "\u001b[1;31mTypeError\u001b[0m                                 Traceback (most recent call last)",
      "Cell \u001b[1;32mIn[91], line 12\u001b[0m\n\u001b[0;32m     10\u001b[0m y_pred \u001b[38;5;241m=\u001b[39m des_tree\u001b[38;5;241m.\u001b[39mpredict(X_test)\n\u001b[0;32m     11\u001b[0m \u001b[38;5;66;03m#Model evaluation\u001b[39;00m\n\u001b[1;32m---> 12\u001b[0m \u001b[38;5;28mprint\u001b[39m(\u001b[38;5;124m\"\u001b[39m\u001b[38;5;124mLinear Regression RMSE:\u001b[39m\u001b[38;5;124m\"\u001b[39m, mean_squared_error(y_test, y_pred,squared\u001b[38;5;241m=\u001b[39m\u001b[38;5;28;01mFalse\u001b[39;00m))\n\u001b[0;32m     13\u001b[0m \u001b[38;5;28mprint\u001b[39m(\u001b[38;5;124m\"\u001b[39m\u001b[38;5;124mLinear Regression R2 Score:\u001b[39m\u001b[38;5;124m\"\u001b[39m, r2_score(y_test, y_pred))\n",
      "File \u001b[1;32m~\\anaconda3\\Lib\\site-packages\\sklearn\\utils\\_param_validation.py:194\u001b[0m, in \u001b[0;36mvalidate_params.<locals>.decorator.<locals>.wrapper\u001b[1;34m(*args, **kwargs)\u001b[0m\n\u001b[0;32m    191\u001b[0m func_sig \u001b[38;5;241m=\u001b[39m signature(func)\n\u001b[0;32m    193\u001b[0m \u001b[38;5;66;03m# Map *args/**kwargs to the function signature\u001b[39;00m\n\u001b[1;32m--> 194\u001b[0m params \u001b[38;5;241m=\u001b[39m func_sig\u001b[38;5;241m.\u001b[39mbind(\u001b[38;5;241m*\u001b[39margs, \u001b[38;5;241m*\u001b[39m\u001b[38;5;241m*\u001b[39mkwargs)\n\u001b[0;32m    195\u001b[0m params\u001b[38;5;241m.\u001b[39mapply_defaults()\n\u001b[0;32m    197\u001b[0m \u001b[38;5;66;03m# ignore self/cls and positional/keyword markers\u001b[39;00m\n",
      "File \u001b[1;32m~\\anaconda3\\Lib\\inspect.py:3273\u001b[0m, in \u001b[0;36mSignature.bind\u001b[1;34m(self, *args, **kwargs)\u001b[0m\n\u001b[0;32m   3268\u001b[0m \u001b[38;5;28;01mdef\u001b[39;00m \u001b[38;5;21mbind\u001b[39m(\u001b[38;5;28mself\u001b[39m, \u001b[38;5;241m/\u001b[39m, \u001b[38;5;241m*\u001b[39margs, \u001b[38;5;241m*\u001b[39m\u001b[38;5;241m*\u001b[39mkwargs):\n\u001b[0;32m   3269\u001b[0m \u001b[38;5;250m    \u001b[39m\u001b[38;5;124;03m\"\"\"Get a BoundArguments object, that maps the passed `args`\u001b[39;00m\n\u001b[0;32m   3270\u001b[0m \u001b[38;5;124;03m    and `kwargs` to the function's signature.  Raises `TypeError`\u001b[39;00m\n\u001b[0;32m   3271\u001b[0m \u001b[38;5;124;03m    if the passed arguments can not be bound.\u001b[39;00m\n\u001b[0;32m   3272\u001b[0m \u001b[38;5;124;03m    \"\"\"\u001b[39;00m\n\u001b[1;32m-> 3273\u001b[0m     \u001b[38;5;28;01mreturn\u001b[39;00m \u001b[38;5;28mself\u001b[39m\u001b[38;5;241m.\u001b[39m_bind(args, kwargs)\n",
      "File \u001b[1;32m~\\anaconda3\\Lib\\inspect.py:3262\u001b[0m, in \u001b[0;36mSignature._bind\u001b[1;34m(self, args, kwargs, partial)\u001b[0m\n\u001b[0;32m   3252\u001b[0m         \u001b[38;5;28;01mraise\u001b[39;00m \u001b[38;5;167;01mTypeError\u001b[39;00m(\n\u001b[0;32m   3253\u001b[0m             \u001b[38;5;124m'\u001b[39m\u001b[38;5;124mgot some positional-only arguments passed as \u001b[39m\u001b[38;5;124m'\u001b[39m\n\u001b[0;32m   3254\u001b[0m             \u001b[38;5;124m'\u001b[39m\u001b[38;5;124mkeyword arguments: \u001b[39m\u001b[38;5;132;01m{arg!r}\u001b[39;00m\u001b[38;5;124m'\u001b[39m\u001b[38;5;241m.\u001b[39mformat(\n\u001b[1;32m   (...)\u001b[0m\n\u001b[0;32m   3259\u001b[0m             ),\n\u001b[0;32m   3260\u001b[0m         )\n\u001b[0;32m   3261\u001b[0m     \u001b[38;5;28;01melse\u001b[39;00m:\n\u001b[1;32m-> 3262\u001b[0m         \u001b[38;5;28;01mraise\u001b[39;00m \u001b[38;5;167;01mTypeError\u001b[39;00m(\n\u001b[0;32m   3263\u001b[0m             \u001b[38;5;124m'\u001b[39m\u001b[38;5;124mgot an unexpected keyword argument \u001b[39m\u001b[38;5;132;01m{arg!r}\u001b[39;00m\u001b[38;5;124m'\u001b[39m\u001b[38;5;241m.\u001b[39mformat(\n\u001b[0;32m   3264\u001b[0m                 arg\u001b[38;5;241m=\u001b[39m\u001b[38;5;28mnext\u001b[39m(\u001b[38;5;28miter\u001b[39m(kwargs))))\n\u001b[0;32m   3266\u001b[0m \u001b[38;5;28;01mreturn\u001b[39;00m \u001b[38;5;28mself\u001b[39m\u001b[38;5;241m.\u001b[39m_bound_arguments_cls(\u001b[38;5;28mself\u001b[39m, arguments)\n",
      "\u001b[1;31mTypeError\u001b[0m: got an unexpected keyword argument 'squared'"
     ]
    }
   ],
   "source": [
    "from sklearn.metrics import mean_squared_error, r2_score\n",
    "from sklearn.tree import DecisionTreeRegressor\n",
    "\n",
    "# Initialize a Decision Tree Regressor model\n",
    "des_tree= DecisionTreeRegressor()\n",
    "\n",
    "# Train the model using the training data (X_train) and the corresponding target values (y_train)\n",
    "des_tree.fit(X_train, y_train)\n",
    "\n",
    "y_pred = des_tree.predict(X_test)\n",
    "#Model evaluation\n",
    "print(\"Linear Regression RMSE:\", mean_squared_error(y_test, y_pred,squared=False))\n",
    "print(\"Linear Regression R2 Score:\", r2_score(y_test, y_pred))"
   ]
  },
  {
   "cell_type": "code",
   "execution_count": null,
   "id": "e6cb5773-b8ce-4da9-a9bf-655a4902270d",
   "metadata": {},
   "outputs": [],
   "source": []
  }
 ],
 "metadata": {
  "kernelspec": {
   "display_name": "Python [conda env:base] *",
   "language": "python",
   "name": "conda-base-py"
  },
  "language_info": {
   "codemirror_mode": {
    "name": "ipython",
    "version": 3
   },
   "file_extension": ".py",
   "mimetype": "text/x-python",
   "name": "python",
   "nbconvert_exporter": "python",
   "pygments_lexer": "ipython3",
   "version": "3.12.7"
  }
 },
 "nbformat": 4,
 "nbformat_minor": 5
}
