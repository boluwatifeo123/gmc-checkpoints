{
 "cells": [
  {
   "cell_type": "code",
   "execution_count": null,
   "id": "e11dd0b7-02ee-417f-a842-c4dd3713787f",
   "metadata": {},
   "outputs": [],
   "source": [
    "import pandas as pd"
   ]
  },
  {
   "cell_type": "code",
   "execution_count": null,
   "id": "a03b696c-341a-4585-a9fe-19180068640e",
   "metadata": {},
   "outputs": [],
   "source": [
    "cdf = pd.read_csv(r\"C:\\Users\\boluw\\PYTHON\\Pandas\\STEG_BILLING_HISTORY.csv\")"
   ]
  },
  {
   "cell_type": "code",
   "execution_count": null,
   "id": "6c7782ef-3f2e-48b4-a114-2956ab9b9946",
   "metadata": {},
   "outputs": [],
   "source": [
    "cdf.head()"
   ]
  },
  {
   "cell_type": "code",
   "execution_count": null,
   "id": "2651f49f-5789-4bf6-b48a-550b6659e196",
   "metadata": {},
   "outputs": [],
   "source": [
    "df = cdf.copy()"
   ]
  },
  {
   "cell_type": "code",
   "execution_count": null,
   "id": "db832330-7ae0-4dd3-bc85-75c18b6b93ff",
   "metadata": {},
   "outputs": [],
   "source": [
    "# Display the first 10 rows and store in variable\n",
    "first10 = df.head(10)\n",
    "first10"
   ]
  },
  {
   "cell_type": "code",
   "execution_count": null,
   "id": "d9b33768-dee9-4235-a5f8-aa9b2b064a89",
   "metadata": {},
   "outputs": [],
   "source": [
    "# Data type of 'client_0_bills'\n",
    "type(df)"
   ]
  },
  {
   "cell_type": "code",
   "execution_count": null,
   "id": "b94728d3-f323-44a8-9ef0-e0abab07e50a",
   "metadata": {},
   "outputs": [],
   "source": [
    "# General info\n",
    "df.info()"
   ]
  },
  {
   "cell_type": "code",
   "execution_count": null,
   "id": "6be489c2-2384-4adb-b2a9-a2bd8db73747",
   "metadata": {},
   "outputs": [],
   "source": [
    "\n",
    "num_rows = df.shape[0]\n",
    "num_columns = df.shape[1]\n",
    "\n",
    "print(f\"Rows: {num_rows}, Columns: {num_columns}\")"
   ]
  },
  {
   "cell_type": "code",
   "execution_count": null,
   "id": "4876a933-6221-4be4-b898-af3e3b5d560d",
   "metadata": {},
   "outputs": [],
   "source": [
    "# Count categorical features (assume object type)\n",
    "c = df.select_dtypes(include='object').columns.tolist()\n",
    "num_categorical = len(c)\n",
    "print(f\"{num_categorical} catergorical features\")"
   ]
  },
  {
   "cell_type": "code",
   "execution_count": null,
   "id": "2d732759-ffbe-4ecb-84b0-99e2b1be6be3",
   "metadata": {},
   "outputs": [],
   "source": [
    "# Check for missing values\n",
    "df.isnull().sum()"
   ]
  },
  {
   "cell_type": "code",
   "execution_count": null,
   "id": "da255a72-1ad3-4f1b-866b-82dffc4e6dcd",
   "metadata": {},
   "outputs": [],
   "source": [
    "# Descriptive statistics for numeric columns\n",
    "df.describe()"
   ]
  },
  {
   "cell_type": "code",
   "execution_count": null,
   "id": "50c748d2-a429-44e6-9ee5-5e7f9b3f5466",
   "metadata": {},
   "outputs": [],
   "source": [
    "# Select bills for client with id 'train_Client_0' using two methods\n",
    "method_1 = df[df['client_id'] == 'train_Client_0']\n",
    "method_2 = df.query(\"client_id == 'train_Client_0'\")"
   ]
  },
  {
   "cell_type": "code",
   "execution_count": null,
   "id": "9110122c-1f1b-4949-a921-01916f29d9de",
   "metadata": {},
   "outputs": [],
   "source": [
    "method_1"
   ]
  },
  {
   "cell_type": "code",
   "execution_count": null,
   "id": "8c569e2d-a879-4f73-a74a-5bc0c088fd06",
   "metadata": {},
   "outputs": [],
   "source": [
    "method_2"
   ]
  },
  {
   "cell_type": "code",
   "execution_count": null,
   "id": "1e8d6d37-89c0-4d96-977e-8cdb147dd0d3",
   "metadata": {},
   "outputs": [],
   "source": [
    "#Transform the 'counter_type' feature to a numeric variable using the encoder of your choice\n",
    "df_encoded = df.copy()\n",
    "df_encoded['counter_type_encoded'] = df_encoded['counter_type'].astype('category').cat.codes\n",
    "df_encoded.head()"
   ]
  },
  {
   "cell_type": "code",
   "execution_count": null,
   "id": "0b6c2db4-7242-4168-8df2-43776f22e7b4",
   "metadata": {},
   "outputs": [],
   "source": [
    " #Delete 'counter_statue' column\n",
    "df_encoded.drop('counter_statue', axis=1, inplace=True)\n",
    "df_encoded.head()"
   ]
  },
  {
   "cell_type": "code",
   "execution_count": null,
   "id": "65eba9c7-d1a4-42b4-b985-a3f265b093b8",
   "metadata": {},
   "outputs": [],
   "source": []
  }
 ],
 "metadata": {
  "kernelspec": {
   "display_name": "Python [conda env:base] *",
   "language": "python",
   "name": "conda-base-py"
  },
  "language_info": {
   "codemirror_mode": {
    "name": "ipython",
    "version": 3
   },
   "file_extension": ".py",
   "mimetype": "text/x-python",
   "name": "python",
   "nbconvert_exporter": "python",
   "pygments_lexer": "ipython3",
   "version": "3.12.7"
  }
 },
 "nbformat": 4,
 "nbformat_minor": 5
}
