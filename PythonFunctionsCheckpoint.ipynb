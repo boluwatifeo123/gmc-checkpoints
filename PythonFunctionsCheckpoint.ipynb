{
 "cells": [
  {
   "cell_type": "markdown",
   "id": "764a0f39-3d08-402c-9649-004a3cfd0d2b",
   "metadata": {},
   "source": [
    "The objective is to create a simple calculator application in Python that can perform basic arithmetic operations such as addition, subtraction, multiplication, and division.\n",
    "\n",
    " \n",
    "\n",
    "Description\n",
    "\n",
    "This exercise involves creating a simple calculator app using Python. The app should be able to perform addition, subtraction, multiplication, and division operations. It will prompt the user to input two numbers and an arithmetic operator, then perform the corresponding operation on the numbers and return the result.\n",
    "\n",
    "Example :\n",
    "\n",
    "Input:\n",
    "\n",
    "Enter the first number: 10\n",
    "\n",
    "Enter the second number: 5\n",
    "\n",
    "Enter the operator (+, -, *, /): *\n",
    "\n",
    "Output:\n",
    "\n",
    "The result is: 50\n",
    "\n",
    "\n",
    "Instructions\n",
    "\n",
    " \n",
    "\n",
    "Open a new Python file in your preferred code editor.\n",
    "Define a function called \"calculator\" that takes two arguments, \"num1\" and \"num2\".\n",
    "Within the function, prompt the user to enter an operator (+, -, *, /).\n",
    "Use conditional statements to determine which operation to perform based on the user's input.\n",
    "Return the result of the operation.\n",
    "Call the function calculator with two numbers and print the result.\n",
    "Handle cases where the user inputs invalid operators or tries to divide by zero.\n",
    "Note: \n",
    "\n",
    "You may want to use a \"while\" loop to allow the user to roll the dice multiple times, or to add some messages to make the program more user-friendly."
   ]
  },
  {
   "cell_type": "code",
   "execution_count": 2,
   "id": "85231640-6c17-417a-a253-4e5ae07153c3",
   "metadata": {},
   "outputs": [
    {
     "name": "stdin",
     "output_type": "stream",
     "text": [
      "Enter the first number:  22\n",
      "Enter the second number:  22\n",
      "Enter an operator (+, -, *, /):  +\n"
     ]
    },
    {
     "name": "stdout",
     "output_type": "stream",
     "text": [
      "The result is: 44.0\n"
     ]
    }
   ],
   "source": [
    "def calculator(num1, num2):\n",
    "    operator = input(\"Enter an operator (+, -, *, /): \")\n",
    "    \n",
    "    if operator == '+':\n",
    "        return num1 + num2\n",
    "    elif operator == '-':\n",
    "        return num1 - num2\n",
    "    elif operator == '*':\n",
    "        return num1 * num2\n",
    "    elif operator == '/':\n",
    "        if num2 == 0:\n",
    "            return \"Error: Division by zero is not allowed.\"\n",
    "        return num1 / num2\n",
    "    else:\n",
    "        return \"Invalid operator! Please enter one of (+, -, *, /).\"\n",
    "\n",
    "# Taking user input\n",
    "num1 = float(input(\"Enter the first number: \"))\n",
    "num2 = float(input(\"Enter the second number: \"))\n",
    "\n",
    "# Calling the function and printing the result\n",
    "result = calculator(num1, num2)\n",
    "print(\"The result is:\", result)\n"
   ]
  },
  {
   "cell_type": "code",
   "execution_count": null,
   "id": "acc42f0d-4ce4-47c0-8971-a8605401e2e4",
   "metadata": {},
   "outputs": [],
   "source": []
  }
 ],
 "metadata": {
  "kernelspec": {
   "display_name": "Python [conda env:base] *",
   "language": "python",
   "name": "conda-base-py"
  },
  "language_info": {
   "codemirror_mode": {
    "name": "ipython",
    "version": 3
   },
   "file_extension": ".py",
   "mimetype": "text/x-python",
   "name": "python",
   "nbconvert_exporter": "python",
   "pygments_lexer": "ipython3",
   "version": "3.12.7"
  }
 },
 "nbformat": 4,
 "nbformat_minor": 5
}
