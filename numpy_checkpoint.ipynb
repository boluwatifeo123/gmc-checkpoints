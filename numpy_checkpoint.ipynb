{
 "cells": [
  {
   "cell_type": "code",
   "execution_count": 4,
   "id": "f502c7bd-49bf-479a-98f8-b5f860fd6e1f",
   "metadata": {},
   "outputs": [],
   "source": [
    "import numpy as np"
   ]
  },
  {
   "cell_type": "code",
   "execution_count": 6,
   "id": "2ee17469-b304-4470-b549-38fd2ee598c0",
   "metadata": {},
   "outputs": [],
   "source": [
    "grades = np.array([85,90,88,92,95,80,75,98,89,83])\n"
   ]
  },
  {
   "cell_type": "code",
   "execution_count": 8,
   "id": "47f5e0d7-2922-47b6-a630-0a00c2b6bc4c",
   "metadata": {},
   "outputs": [
    {
     "data": {
      "text/plain": [
       "array([85, 90, 88, 92, 95, 80, 75, 98, 89, 83])"
      ]
     },
     "execution_count": 8,
     "metadata": {},
     "output_type": "execute_result"
    }
   ],
   "source": [
    "grades"
   ]
  },
  {
   "cell_type": "code",
   "execution_count": 10,
   "id": "1f9c8c79-cbd8-4174-8720-c798c9851407",
   "metadata": {},
   "outputs": [
    {
     "name": "stdout",
     "output_type": "stream",
     "text": [
      "The mean is: 87.5\n"
     ]
    }
   ],
   "source": [
    "print(\"The mean is:\", grades.mean())"
   ]
  },
  {
   "cell_type": "code",
   "execution_count": 12,
   "id": "372602e7-5b03-4171-9594-bc3aa920ee40",
   "metadata": {},
   "outputs": [
    {
     "name": "stdout",
     "output_type": "stream",
     "text": [
      "The median is: 88.5\n"
     ]
    }
   ],
   "source": [
    "print(\"The median is:\", np.median(grades))"
   ]
  },
  {
   "cell_type": "code",
   "execution_count": 14,
   "id": "fccea47b-692a-42b0-9722-55fc79fa1fb1",
   "metadata": {},
   "outputs": [
    {
     "name": "stdout",
     "output_type": "stream",
     "text": [
      "The standard deviation is: 6.591661399070799\n"
     ]
    }
   ],
   "source": [
    "print(\"The standard deviation is:\", np.std(grades))"
   ]
  },
  {
   "cell_type": "code",
   "execution_count": 16,
   "id": "9e9a2a68-4d9a-4318-8470-dcbf27912610",
   "metadata": {},
   "outputs": [
    {
     "name": "stdout",
     "output_type": "stream",
     "text": [
      "The minimum is: 75\n"
     ]
    }
   ],
   "source": [
    "print(\"The minimum is:\", np.min(grades))"
   ]
  },
  {
   "cell_type": "code",
   "execution_count": 18,
   "id": "058f1857-2bd2-4ca3-a749-00c455b9e65c",
   "metadata": {},
   "outputs": [
    {
     "name": "stdout",
     "output_type": "stream",
     "text": [
      "The maximum is: 98\n"
     ]
    }
   ],
   "source": [
    "print(\"The maximum is:\", np.max(grades))"
   ]
  },
  {
   "cell_type": "code",
   "execution_count": 20,
   "id": "79d402c1-c04c-4ac1-bc45-bcece154acb8",
   "metadata": {},
   "outputs": [
    {
     "name": "stdout",
     "output_type": "stream",
     "text": [
      "The grades when sorted: [75 80 83 85 88 89 90 92 95 98]\n"
     ]
    }
   ],
   "source": [
    "print(\"The grades when sorted:\", np.sort(grades))"
   ]
  },
  {
   "cell_type": "code",
   "execution_count": 40,
   "id": "0f7aef01-894e-45e6-a8db-0d3fce610b92",
   "metadata": {},
   "outputs": [
    {
     "name": "stdout",
     "output_type": "stream",
     "text": [
      "The highest grade index is: 7\n",
      "Highest grade: 98\n"
     ]
    }
   ],
   "source": [
    "highest_index = np.argmax(grades)\n",
    "\n",
    "print(\"The highest grade index is:\", highest_index)\n",
    "print(\"Highest grade:\", grades[highest_index])  "
   ]
  },
  {
   "cell_type": "code",
   "execution_count": 50,
   "id": "c347fdb6-dfc4-4719-ab82-071c3db17aa0",
   "metadata": {},
   "outputs": [
    {
     "name": "stdout",
     "output_type": "stream",
     "text": [
      "The number of people who scored above 90: 3 people\n"
     ]
    }
   ],
   "source": [
    "#highscorers who scored above 90\n",
    "\n",
    "high_score_count = np.count_nonzero(grades > 90)\n",
    "print(f\"The number of people who scored above 90: {high_score_count} people\")"
   ]
  },
  {
   "cell_type": "code",
   "execution_count": 66,
   "id": "b82b46eb-2615-4e0f-bd17-2ec8e82c8ea5",
   "metadata": {},
   "outputs": [
    {
     "name": "stdout",
     "output_type": "stream",
     "text": [
      "Percentage of students who scored above 90: 30.0 %\n"
     ]
    }
   ],
   "source": [
    "#percentage of those who scored above 90\n",
    "percentage = (high_score_count / len(grades)) * 100\n",
    "\n",
    "print(\"Percentage of students who scored above 90:\", percentage, \"%\")"
   ]
  },
  {
   "cell_type": "code",
   "execution_count": 102,
   "id": "04186103-aed5-4d1d-ae31-f6d5e4352907",
   "metadata": {},
   "outputs": [
    {
     "name": "stdout",
     "output_type": "stream",
     "text": [
      "Percentage of students who scored above 90: 30.0 %\n"
     ]
    }
   ],
   "source": [
    "percentage = np.mean(grades > 90) * 100\n",
    "print(\"Percentage of students who scored above 90:\", percentage, \"%\")"
   ]
  },
  {
   "cell_type": "code",
   "execution_count": 105,
   "id": "7c8efd8b-c30e-45d1-b63f-aca8cca9cf42",
   "metadata": {},
   "outputs": [
    {
     "name": "stdout",
     "output_type": "stream",
     "text": [
      "Percentage of students who scored below 75: 0.0 %\n"
     ]
    }
   ],
   "source": [
    "low_scorers = np.count_nonzero(grades < 75)\n",
    "\n",
    "percentage_low_scorers = (low_scorers / len(grades)) * 100\n",
    "\n",
    "print(\"Percentage of students who scored below 75:\", percentage_low_scorers, \"%\")"
   ]
  },
  {
   "cell_type": "code",
   "execution_count": 82,
   "id": "64428147-bbe9-4695-8802-f47b1a0466f3",
   "metadata": {},
   "outputs": [
    {
     "name": "stdout",
     "output_type": "stream",
     "text": [
      "High Performers: [92 95 98]\n"
     ]
    }
   ],
   "source": [
    "#Use numpy function to extract all the grades above 90 and put them in a new array called \"high_performers\".\n",
    "\n",
    "high_performers =  grades[grades > 90]\n",
    "\n",
    "print(\"High Performers:\",high_performers)"
   ]
  },
  {
   "cell_type": "code",
   "execution_count": 86,
   "id": "a264118b-be60-4239-8e07-04a085215c97",
   "metadata": {},
   "outputs": [
    {
     "name": "stdout",
     "output_type": "stream",
     "text": [
      "Passing Grades: [85 90 88 92 95 80 98 89 83]\n"
     ]
    }
   ],
   "source": [
    "#Create a new array called \"passing_grades\" that contains all the grades above 75.\n",
    "passing_grades = grades[grades > 75]\n",
    "print(\"Passing Grades:\", passing_grades)"
   ]
  },
  {
   "cell_type": "code",
   "execution_count": null,
   "id": "909cb23d-ae6a-425b-896e-b9d7f2443883",
   "metadata": {},
   "outputs": [],
   "source": []
  }
 ],
 "metadata": {
  "kernelspec": {
   "display_name": "Python [conda env:base] *",
   "language": "python",
   "name": "conda-base-py"
  },
  "language_info": {
   "codemirror_mode": {
    "name": "ipython",
    "version": 3
   },
   "file_extension": ".py",
   "mimetype": "text/x-python",
   "name": "python",
   "nbconvert_exporter": "python",
   "pygments_lexer": "ipython3",
   "version": "3.12.7"
  }
 },
 "nbformat": 4,
 "nbformat_minor": 5
}
