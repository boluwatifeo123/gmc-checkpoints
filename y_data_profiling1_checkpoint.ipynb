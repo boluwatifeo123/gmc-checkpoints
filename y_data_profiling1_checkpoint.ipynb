{
 "cells": [
  {
   "cell_type": "code",
   "execution_count": null,
   "id": "6416507d-9af2-4658-b0df-bff8e885cc4b",
   "metadata": {},
   "outputs": [],
   "source": [
    "import pandas as pd\n",
    "\n",
    "df = pd.read_csv(r\"C:\\Users\\boluw\\PYTHON\\Y Data Profiling\\diabetes (1).csv\")"
   ]
  },
  {
   "cell_type": "code",
   "execution_count": null,
   "id": "0cc284f5-6679-426a-839b-6e17b05aeec6",
   "metadata": {},
   "outputs": [],
   "source": [
    "# Display the first 5 rows and general info\n",
    "df.head()\n"
   ]
  },
  {
   "cell_type": "code",
   "execution_count": null,
   "id": "2a7bbb25-4ed7-4d4f-8b7e-76227b0c0453",
   "metadata": {},
   "outputs": [],
   "source": [
    "df.info()"
   ]
  },
  {
   "cell_type": "code",
   "execution_count": null,
   "id": "8a15d95c-57d7-4fe4-95e5-db30537016d2",
   "metadata": {},
   "outputs": [],
   "source": [
    "# Count zeros in each column (excluding 'Outcome' where 0 may be valid)\n",
    "(df.iloc[:, :-1] == 0).sum()"
   ]
  },
  {
   "cell_type": "code",
   "execution_count": null,
   "id": "82940793-be9a-4a98-ac72-e50061255c39",
   "metadata": {},
   "outputs": [],
   "source": [
    "df.describe()"
   ]
  },
  {
   "cell_type": "code",
   "execution_count": null,
   "id": "eda9e2a0-bede-4ccb-a572-1589e50cd978",
   "metadata": {},
   "outputs": [],
   "source": [
    "# Identify columns with unrealistic min or max values\n",
    "for column in df.columns:\n",
    "    print(f\"{column} - Min: {df[column].min()}, Max: {df[column].max()}\")"
   ]
  },
  {
   "cell_type": "markdown",
   "id": "f769ea8b-e1ec-4ae9-873d-0df46e2b759a",
   "metadata": {},
   "source": [
    "---"
   ]
  },
  {
   "cell_type": "markdown",
   "id": "785f5292-164a-4956-a4d6-e511144652ed",
   "metadata": {},
   "source": [
    "## Step 2"
   ]
  },
  {
   "cell_type": "code",
   "execution_count": null,
   "id": "2a58b809-2803-4bbb-834f-51b759e669d0",
   "metadata": {},
   "outputs": [],
   "source": [
    "# pip install --upgrade ydata-profiling\n",
    "from ydata_profiling import ProfileReport"
   ]
  },
  {
   "cell_type": "code",
   "execution_count": null,
   "id": "b92cb65c-ab6e-4e98-84fb-1077de6ba2aa",
   "metadata": {},
   "outputs": [],
   "source": [
    "\n",
    "\n",
    "# Create the profiling report\n",
    "profile = ProfileReport(df, title=\"Diabetes Dataset Profiling Report\", explorative=True)\n",
    "\n",
    "# Display report in Jupyter Notebook\n",
    "profile.to_notebook_iframe()\n",
    "\n"
   ]
  },
  {
   "cell_type": "code",
   "execution_count": null,
   "id": "e53f74cb-a66e-4613-b730-3ee10e9ed420",
   "metadata": {},
   "outputs": [],
   "source": [
    "# Correlation\n",
    "df.corr()"
   ]
  },
  {
   "cell_type": "markdown",
   "id": "ccf7795d-8fa9-4d74-a9be-e9e9548b6329",
   "metadata": {},
   "source": [
    "## Interesting Patterns and Insights\n",
    "Patients with high glucose levels (Glucose > 120) are more likely to have a positive diabetes outcome.\n",
    "\n",
    "The BMI distribution shows that individuals with BMI above 30 (obese range) also have a higher occurrence of diabetes.\n",
    "\n",
    "Many insulin values are missing (zeros), which may weaken its predictive value unless properly handled.\n",
    "\n",
    "Age groups above 50 show a notably higher prevalence of diabetes."
   ]
  },
  {
   "cell_type": "code",
   "execution_count": null,
   "id": "75d4ab19-3f08-4e80-99b5-1982f0e0b39e",
   "metadata": {},
   "outputs": [],
   "source": []
  },
  {
   "cell_type": "markdown",
   "id": "4db8f9c6-8905-4087-a328-af6921d55e3e",
   "metadata": {},
   "source": [
    "## Step 3"
   ]
  },
  {
   "cell_type": "markdown",
   "id": "681e2eda-894e-40af-96ab-0378c6d67108",
   "metadata": {},
   "source": [
    "High glucose and BMI levels are strongly linked to diabetes diagnosis.\n",
    "\n",
    "Pregnancies and age show moderate correlation with diabetes.\n",
    "\n",
    "Columns like Glucose, Insulin, and BMI have invalid zero values.\n",
    "\n",
    "Insulin has too many missing values and may be unreliable.\n",
    "\n",
    "Next step: Impute or drop missing values and prepare for modeling."
   ]
  },
  {
   "cell_type": "markdown",
   "id": "4a0d1c56-552d-48d0-b2d6-7c48a4cd9b67",
   "metadata": {},
   "source": [
    "Replace zero values in Glucose, BMI, and BloodPressure with median values.\n",
    "\n",
    "Drop or impute Insulin due to high missing rate.\n",
    "\n",
    "Remove outliers using IQR or z-score methods.\n",
    "\n",
    "Normalize data for consistent scale across features.\n",
    "\n",
    "Proceed to build predictive models like logistic regression or decision trees."
   ]
  },
  {
   "cell_type": "code",
   "execution_count": null,
   "id": "fd535832-e8fd-4574-b161-779f8fafd28f",
   "metadata": {},
   "outputs": [],
   "source": []
  }
 ],
 "metadata": {
  "kernelspec": {
   "display_name": "Python [conda env:base] *",
   "language": "python",
   "name": "conda-base-py"
  },
  "language_info": {
   "codemirror_mode": {
    "name": "ipython",
    "version": 3
   },
   "file_extension": ".py",
   "mimetype": "text/x-python",
   "name": "python",
   "nbconvert_exporter": "python",
   "pygments_lexer": "ipython3",
   "version": "3.12.7"
  }
 },
 "nbformat": 4,
 "nbformat_minor": 5
}
